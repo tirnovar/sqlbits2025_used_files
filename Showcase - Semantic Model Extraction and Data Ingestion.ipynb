{
 "cells": [
  {
   "cell_type": "code",
   "execution_count": null,
   "id": "dd865a3c-1e9d-4059-9c5f-513de2c62ad1",
   "metadata": {
    "microsoft": {
     "language": "python",
     "language_group": "jupyter_python"
    }
   },
   "outputs": [],
   "source": [
    "import sempy.fabric as fabric"
   ]
  },
  {
   "cell_type": "code",
   "execution_count": null,
   "id": "7fb77eea-f4bb-47f3-8b66-e8ac8790b39e",
   "metadata": {
    "microsoft": {
     "language": "python",
     "language_group": "jupyter_python"
    }
   },
   "outputs": [],
   "source": [
    "import notebookutils\n",
    "import pandas as pd\n",
    "import re\n",
    "import requests\n",
    "import msal\n",
    "import json "
   ]
  },
  {
   "cell_type": "code",
   "execution_count": null,
   "id": "a1f3cab6-f301-4361-bcd5-575bcba92882",
   "metadata": {
    "microsoft": {
     "language": "python",
     "language_group": "jupyter_python"
    }
   },
   "outputs": [],
   "source": [
    "dataverse_prefix = \"\" # Example: cr8dc\n",
    "\n",
    "wsId = \"\" # replace with your workspace ID\n",
    "dsId = \"\" # replace with your dataset ID\n",
    "tenant_id = \"\" # replace with your tenant ID"
   ]
  },
  {
   "cell_type": "markdown",
   "id": "c4c6e022-5a9c-4662-8627-790d3cdb386d",
   "metadata": {
    "microsoft": {
     "language": "python",
     "language_group": "jupyter_python"
    },
    "nteract": {
     "transient": {
      "deleting": false
     }
    }
   },
   "source": [
    "## SEMPY"
   ]
  },
  {
   "cell_type": "code",
   "execution_count": null,
   "id": "12fddd5d-4c8b-453e-98f9-eecf875ef3ce",
   "metadata": {
    "microsoft": {
     "language": "python",
     "language_group": "jupyter_python"
    }
   },
   "outputs": [],
   "source": [
    "df_datasets = fabric.list_datasets()\n",
    "df_datasets"
   ]
  },
  {
   "cell_type": "code",
   "execution_count": null,
   "id": "d5232b11-7697-4b5d-a59d-a6d61874fa2d",
   "metadata": {
    "microsoft": {
     "language": "python",
     "language_group": "jupyter_python"
    }
   },
   "outputs": [],
   "source": [
    "execution_of_dax = fabric.evaluate_dax(\n",
    "    workspace = wsId, \n",
    "    dataset = dsId, \n",
    "    dax_string = \"\"\"\n",
    "        EVALUATE \n",
    "            ADDCOLUMNS(\n",
    "                SELECTCOLUMNS(\n",
    "                    SUMMARIZE(\n",
    "                        'fact Sales',\n",
    "                        'dim Employees'[Employee],\n",
    "                        'dim Pricelists'[Product name],\n",
    "                        'dim DateKey'[Month]\n",
    "                    ),\n",
    "                    \"Employee\",'dim Employees'[Employee], \n",
    "                    \"Product name\",'dim Pricelists'[Product name], \n",
    "                    \"Month\",'dim DateKey'[Month]\n",
    "                ),\n",
    "                \"Sold units\", CALCULATE(SUM('fact Sales'[Quantity]))\n",
    "            )\n",
    "    \"\"\"\n",
    ")\n",
    "\n",
    "execution_of_dax"
   ]
  },
  {
   "cell_type": "markdown",
   "id": "c9d1f0c4-b4ba-4196-8a3b-03d6e5c8f5c5",
   "metadata": {
    "microsoft": {
     "language": "python",
     "language_group": "jupyter_python"
    },
    "nteract": {
     "transient": {
      "deleting": false
     }
    }
   },
   "source": [
    "## REST API"
   ]
  },
  {
   "cell_type": "code",
   "execution_count": null,
   "id": "fbf706d1-26c0-4c62-9d8e-8decf3894b15",
   "metadata": {
    "microsoft": {
     "language": "python",
     "language_group": "jupyter_python"
    }
   },
   "outputs": [],
   "source": [
    "pbi_resource = \"pbi\"\n",
    "pbi_Uri = 'https://api.powerbi.com/v1.0/myorg/'"
   ]
  },
  {
   "cell_type": "code",
   "execution_count": null,
   "id": "756d1d30-c28c-42d9-ae96-5d3e782c4ef2",
   "metadata": {
    "microsoft": {
     "language": "python",
     "language_group": "jupyter_python"
    }
   },
   "outputs": [],
   "source": [
    "def get_token():\n",
    "    return notebookutils.credentials.getToken(pbi_resource)"
   ]
  },
  {
   "cell_type": "code",
   "execution_count": null,
   "id": "738e701b-4dbb-4aec-8e4a-89718b8f8d26",
   "metadata": {
    "microsoft": {
     "language": "python",
     "language_group": "jupyter_python"
    }
   },
   "outputs": [],
   "source": [
    "dax_query = \"\"\"DEFINE\n",
    "\tVAR __DS0FilterTable = \n",
    "\t\tFILTER(\n",
    "\t\t\tKEEPFILTERS(VALUES('Products calculation'[Products calculation])),\n",
    "\t\t\t'Products calculation'[Products calculation] = 3\n",
    "\t\t)\n",
    " \n",
    "\tVAR __DS0FilterTable2 = \n",
    "\t\tFILTER(\n",
    "\t\t\tKEEPFILTERS(VALUES('Dynamic percentage'[Dynamic percentage])),\n",
    "\t\t\t'Dynamic percentage'[Dynamic percentage] = 40\n",
    "\t\t)\n",
    " \n",
    "\tVAR __DS0Core = \n",
    "\t\tSUMMARIZECOLUMNS(\n",
    "\t\t\t'dim Employees'[Employee],\n",
    "\t\t\t__DS0FilterTable,\n",
    "\t\t\t__DS0FilterTable2,\n",
    "\t\t\t\"Dynamic_vs_Total_Revenue_Difference\", 'Measure'[# Dynamic vs Total Revenue Difference],\n",
    "\t\t\t\"Total_Revenue\", 'Measure'[# Total Revenue],\n",
    "\t\t\t\"Dynamic_Revenue\", 'Measure'[# Dynamic Revenue],\n",
    "\t\t\t\"Dynamic_Profit\", 'Measure'[# Dynamic Profit],\n",
    "\t\t\t\"Total_Profit\", 'Measure'[# Total Profit],\n",
    "\t\t\t\"Dynamic_vs_Total_Profit_Difference\", 'Measure'[# Dynamic vs Total Profit Difference],\n",
    "\t\t\t\"Dynamic_Revenue_ratio\", 'Measure'[% Dynamic Revenue ratio],\n",
    "\t\t\t\"Dynamic_Profit_ratio\", 'Measure'[% Dynamic Profit ratio]\n",
    "\t\t)\n",
    " \n",
    "EVALUATE\n",
    "\t__DS0Core\n",
    "\"\"\""
   ]
  },
  {
   "cell_type": "code",
   "execution_count": null,
   "id": "29b64900-88c0-4dae-a7f1-f2823d3fc730",
   "metadata": {
    "microsoft": {
     "language": "python",
     "language_group": "jupyter_python"
    }
   },
   "outputs": [],
   "source": [
    "def post_ExecuteQuery(wsId, dsId, daxQ):\n",
    "    fullurl = f'{pbi_Uri}/groups/{wsId}/datasets/{dsId}/executeQueries'\n",
    "    pbi_access_token = get_token()\n",
    "    headers = {'Content-Type': 'application/json', 'Authorization': f'Bearer {pbi_access_token}'}\n",
    "    content = {\"queries\": [{\"query\": daxQ}],\"serializerSettings\": {\"includeNulls\": True}}\n",
    "    response = requests.post(fullurl, json=content, headers = headers, timeout=60).json()['results'][0]['tables'][0]['rows']\n",
    "    return response\n"
   ]
  },
  {
   "cell_type": "code",
   "execution_count": null,
   "id": "a9596ce0-2cbb-4b2c-b23a-20587939857e",
   "metadata": {
    "microsoft": {
     "language": "python",
     "language_group": "jupyter_python"
    }
   },
   "outputs": [],
   "source": [
    "def rename_columns_with_brackets(df,prefix):\n",
    "    def extract_bracket_content(col_name):\n",
    "        match = re.search(r'\\[(.*?)\\]', col_name)\n",
    "        return (prefix+\"_\"+match.group(1)).lower() if match else col_name\n",
    "\n",
    "    df.rename(columns=lambda x: extract_bracket_content(x), inplace=True)\n",
    "    return df"
   ]
  },
  {
   "cell_type": "code",
   "execution_count": null,
   "id": "91c7594b-4f2a-4730-9050-3885c028fc95",
   "metadata": {
    "microsoft": {
     "language": "python",
     "language_group": "jupyter_python"
    }
   },
   "outputs": [],
   "source": [
    "response = post_ExecuteQuery(wsId,dsId,dax_query)\n",
    "response = rename_columns_with_brackets(pd.DataFrame(response),dataverse_prefix)\n",
    "display(response)"
   ]
  },
  {
   "cell_type": "code",
   "execution_count": null,
   "id": "52a070ee-bd91-48db-8062-e6f8f65febbf",
   "metadata": {
    "microsoft": {
     "language": "python",
     "language_group": "jupyter_python"
    }
   },
   "outputs": [],
   "source": [
    "json_output = response.to_json(orient=\"records\")\n",
    "json_output = json.loads(json_output)"
   ]
  },
  {
   "cell_type": "markdown",
   "id": "ad148a52-740e-4a4f-a54b-fc12241e78c3",
   "metadata": {
    "microsoft": {
     "language": "python",
     "language_group": "jupyter_python"
    },
    "nteract": {
     "transient": {
      "deleting": false
     }
    }
   },
   "source": [
    "## Write to Dataverse"
   ]
  },
  {
   "cell_type": "code",
   "execution_count": null,
   "id": "ae131583-34b9-4930-9fdc-5da929a9561f",
   "metadata": {
    "microsoft": {
     "language": "python",
     "language_group": "jupyter_python"
    }
   },
   "outputs": [],
   "source": [
    "keyvault_name = \"\" # replace with your Key Vault name \n",
    "keyvault_ir = f'https://{keyvault_name}.vault.azure.net/'\n",
    "\n",
    "client_id = notebookutils.credentials.getSecret(keyvault_ir,'dataverseFabricIntegrationClientId')\n",
    "client_secret = notebookutils.credentials.getSecret(keyvault_ir,'dataverseFabricIntegrationClientSecret')\n",
    "dataverse_name = \"\" # Example: org9b35785c\n",
    "resource_uri = f'https://{dataverse_name}.crm4.dynamics.com'\n",
    "\n",
    "authority_url = f'https://login.microsoftonline.com/{tenant_id}'\n",
    "scope = [f'{resource_uri}/.default']\n",
    "\n",
    "table_name = \"\" # replace with your table name\n",
    "entity_name = f'{dataverse_prefix}_{table_name}'\n",
    "entity_url = f'{resource_uri}/api/data/v9.2/{entity_name}'"
   ]
  },
  {
   "cell_type": "code",
   "execution_count": null,
   "id": "f8eea798-2f6b-4cf6-97c3-48cbe544b466",
   "metadata": {
    "microsoft": {
     "language": "python",
     "language_group": "jupyter_python"
    }
   },
   "outputs": [],
   "source": [
    "app = msal.ConfidentialClientApplication(\n",
    "    client_id,\n",
    "    authority=authority_url,\n",
    "    client_credential=client_secret\n",
    ")\n",
    "\n",
    "token_response = app.acquire_token_for_client(scopes=scope)\n",
    "access_token = token_response.get('access_token')"
   ]
  },
  {
   "cell_type": "code",
   "execution_count": null,
   "id": "579eaf05-adb2-4948-bb04-e21d7c448542",
   "metadata": {
    "microsoft": {
     "language": "python",
     "language_group": "jupyter_python"
    }
   },
   "outputs": [],
   "source": [
    "# Data to be written to Dataverse\n",
    "data = json_output\n",
    "\n",
    "for row in json_output:\n",
    "    \n",
    "    token_response = app.acquire_token_for_client(scopes=scope)\n",
    "    access_token = token_response.get('access_token')\n",
    "\n",
    "    # Headers\n",
    "    headers = {\n",
    "        'Authorization': f'Bearer {access_token}',\n",
    "        'Content-Type': 'application/json',\n",
    "        'OData-MaxVersion': '4.0',\n",
    "        'OData-Version': '4.0'\n",
    "    }\n",
    "\n",
    "    # Write data to Dataverse\n",
    "    response = requests.post(entity_url, headers=headers, json=row)\n",
    "\n",
    "    if response.status_code == 204:\n",
    "        print(\"Data written successfully!\")\n",
    "    else:\n",
    "        print(f\"Failed to write data. Status code: {response.status_code}\")\n",
    "        print(response.content)\n"
   ]
  }
 ],
 "metadata": {
  "dependencies": {
   "lakehouse": {}
  },
  "kernel_info": {
   "jupyter_kernel_name": "python3.11",
   "name": "jupyter"
  },
  "kernelspec": {
   "display_name": "Jupyter",
   "language": "Jupyter",
   "name": "jupyter"
  },
  "language_info": {
   "name": "python"
  },
  "microsoft": {
   "language": "python",
   "language_group": "jupyter_python",
   "ms_spell_check": {
    "ms_spell_check_language": "en"
   }
  },
  "nteract": {
   "version": "nteract-front-end@1.0.0"
  },
  "spark_compute": {
   "compute_id": "/trident/default",
   "session_options": {
    "conf": {
     "spark.synapse.nbs.session.timeout": "1200000"
    }
   }
  }
 },
 "nbformat": 4,
 "nbformat_minor": 5
}
