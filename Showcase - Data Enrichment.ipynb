{
 "cells": [
  {
   "cell_type": "code",
   "execution_count": null,
   "id": "427f00b1-1114-439f-a170-d4a2a4641b6f",
   "metadata": {
    "microsoft": {
     "language": "python",
     "language_group": "synapse_pyspark"
    }
   },
   "outputs": [],
   "source": [
    "import pyspark.sql.functions as F"
   ]
  },
  {
   "cell_type": "code",
   "execution_count": null,
   "id": "dfe7f6ba-3477-40c4-8d20-53f011ff3347",
   "metadata": {
    "microsoft": {
     "language": "python",
     "language_group": "synapse_pyspark"
    }
   },
   "outputs": [],
   "source": [
    "workspace_id = \"\"\n",
    "lakehouse_id = \"\"\n",
    "path = f\"abfss://{workspace_id}@onelake.dfs.fabric.microsoft.com/{lakehouse_id}/Tables\""
   ]
  },
  {
   "cell_type": "markdown",
   "id": "8e5492b8-a157-414b-8b86-aa9efee18c78",
   "metadata": {
    "microsoft": {
     "language": "python",
     "language_group": "synapse_pyspark"
    },
    "nteract": {
     "transient": {
      "deleting": false
     }
    }
   },
   "source": [
    "## Load Example"
   ]
  },
  {
   "cell_type": "code",
   "execution_count": null,
   "id": "6da10049-4a97-44cf-875d-1c6c002f3f59",
   "metadata": {
    "collapsed": false,
    "microsoft": {
     "language": "python",
     "language_group": "synapse_pyspark"
    }
   },
   "outputs": [],
   "source": [
    "df = spark.read.format(\"delta\").load(f'{path}/Customer')\n",
    "display(df)"
   ]
  },
  {
   "cell_type": "markdown",
   "id": "78be2c1d-ace5-470d-adbd-9b65a05614e2",
   "metadata": {
    "microsoft": {
     "language": "python",
     "language_group": "synapse_pyspark"
    },
    "nteract": {
     "transient": {
      "deleting": false
     }
    }
   },
   "source": [
    "## Selective load"
   ]
  },
  {
   "cell_type": "code",
   "execution_count": null,
   "id": "6cc82519-5886-4ca9-8307-be247cc170b0",
   "metadata": {
    "collapsed": false,
    "microsoft": {
     "language": "python",
     "language_group": "synapse_pyspark"
    }
   },
   "outputs": [],
   "source": [
    "customers = spark.read.format(\"delta\").load(f'{path}/Customer').select(\n",
    "    F.col('cr8dc_customeridentifier').alias('Id')\n",
    "    ,F.col('cr8dc_fullname').alias('FullName')\n",
    ")\n",
    "display(customers)"
   ]
  },
  {
   "cell_type": "code",
   "execution_count": null,
   "id": "5ef2425e-1e44-4b63-9caf-c5c08087d859",
   "metadata": {
    "collapsed": false,
    "microsoft": {
     "language": "python",
     "language_group": "synapse_pyspark"
    }
   },
   "outputs": [],
   "source": [
    "products = spark.read.format(\"delta\").load(f'{path}/Product').select(\n",
    "    F.col('cr8dc_productname').alias('ProductName')\n",
    "    ,F.col('cr8dc_productidentifier').alias('Id')\n",
    "    ,F.col('cr8dc_unitprice').alias('UnitPrice')\n",
    "    ,F.col('cr8dc_unitprice_base').alias('UnitPriceBase')\n",
    "    ,F.col('cr8dc_ProductCategory').alias('ProductCategory')\n",
    ")\n",
    "display(products)"
   ]
  },
  {
   "cell_type": "code",
   "execution_count": null,
   "id": "e5b10e83-7255-4544-a530-34e348446e5c",
   "metadata": {
    "collapsed": false,
    "microsoft": {
     "language": "python",
     "language_group": "synapse_pyspark"
    }
   },
   "outputs": [],
   "source": [
    "sales = spark.read.format(\"delta\").load(f'{path}/Sales').select(\n",
    "    F.col('cr8dc_saleidentifier').alias('Id')\n",
    "    ,F.col('cr8dc_saledate').cast(\"Timestamp\").alias('SaleDate')\n",
    "    ,F.col('cr8dc_quantitysold').alias('SoldUnits')\n",
    "    ,F.col('cr8dc_productidentifier').alias('ProductID')\n",
    "    ,F.col('cr8dc_customeridentifier').alias('CustomerID')\n",
    ")\n",
    "display(sales)"
   ]
  },
  {
   "cell_type": "markdown",
   "id": "da60354a-a141-40cb-88dc-e5f9875bde0b",
   "metadata": {
    "microsoft": {
     "language": "python",
     "language_group": "synapse_pyspark"
    },
    "nteract": {
     "transient": {
      "deleting": false
     }
    }
   },
   "source": [
    "## Combination"
   ]
  },
  {
   "cell_type": "code",
   "execution_count": null,
   "id": "f4f285e9-e577-45c6-be41-e3ebdd5202e1",
   "metadata": {
    "collapsed": false,
    "microsoft": {
     "language": "python",
     "language_group": "synapse_pyspark"
    }
   },
   "outputs": [],
   "source": [
    "grouped_orders_by_customer = customers.join(sales,[customers.Id == sales.CustomerID],'leftouter')\n",
    "grouped_orders_by_customer = grouped_orders_by_customer.groupBy('FullName').agg(F.sum(\"SoldUnits\").alias(\"Sold_Units_Aggregated\"))\n",
    "display(grouped_orders_by_customer)"
   ]
  },
  {
   "cell_type": "code",
   "execution_count": null,
   "id": "d30e1b5a-719a-422f-b38b-32594daf5ba8",
   "metadata": {
    "collapsed": false,
    "microsoft": {
     "language": "python",
     "language_group": "synapse_pyspark"
    }
   },
   "outputs": [],
   "source": [
    "grouped_orders_by_customer_and_product = sales\\\n",
    "    .join(products,[sales.ProductID == products.Id],'leftouter')\\\n",
    "    .join(customers,[sales.CustomerID == customers.Id], 'leftouter')\\\n",
    "    .withColumn('Revenue', F.lit(F.col('SoldUnits')*F.col('UnitPrice')))\\\n",
    "    .groupBy('ProductName','FullName').agg(F.sum('Revenue').alias('Revenue'))\n",
    "display(grouped_orders_by_customer_and_product)"
   ]
  },
  {
   "cell_type": "code",
   "execution_count": null,
   "id": "1fddd083-1f27-450e-ba0c-bd0472704bb4",
   "metadata": {
    "microsoft": {
     "language": "python",
     "language_group": "synapse_pyspark"
    }
   },
   "outputs": [],
   "source": [
    "grouped_orders_by_customer_and_product.write.mode(\"overwrite\").format(\"delta\").save(f\"{path}/RevenueByProductsAndCustomers\")"
   ]
  },
  {
   "cell_type": "code",
   "execution_count": null,
   "id": "a021954b-b084-4084-93cb-9f227d7f6d32",
   "metadata": {
    "collapsed": false,
    "microsoft": {
     "language": "python",
     "language_group": "synapse_pyspark"
    }
   },
   "outputs": [],
   "source": [
    "preview_created_data = spark.read.format(\"delta\").load(f\"{path}/RevenueByProductsAndCustomers\")\n",
    "display(preview_created_data)"
   ]
  }
 ],
 "metadata": {
  "dependencies": {
   "lakehouse": {}
  },
  "kernel_info": {
   "name": "synapse_pyspark"
  },
  "kernelspec": {
   "display_name": "Synapse PySpark",
   "language": "Python",
   "name": "synapse_pyspark"
  },
  "language_info": {
   "name": "python"
  },
  "microsoft": {
   "language": "python",
   "language_group": "synapse_pyspark",
   "ms_spell_check": {
    "ms_spell_check_language": "en"
   }
  },
  "nteract": {
   "version": "nteract-front-end@1.0.0"
  },
  "spark_compute": {
   "compute_id": "/trident/default",
   "session_options": {
    "conf": {
     "spark.synapse.nbs.session.timeout": "1200000"
    }
   }
  },
  "synapse_widget": {
   "state": {
    "0aa2af73-2054-455c-b413-c6e918be997a": {
     "persist_state": {
      "view": {
       "chartOptions": {
        "aggregationType": "sum",
        "binsNumber": 10,
        "categoryFieldKeys": [],
        "chartType": "bar",
        "isStacked": false,
        "seriesFieldKeys": [],
        "wordFrequency": "-1"
       },
       "tableOptions": {},
       "type": "details",
       "viewOptionsGroup": [
        {
         "tabItems": [
          {
           "key": "0",
           "name": "Table",
           "options": {},
           "type": "table"
          }
         ]
        }
       ]
      }
     },
     "sync_state": {
      "isSummary": false,
      "language": "scala",
      "table": {
       "rows": [
        {
         "0": "Alice Smith",
         "1": "5"
        },
        {
         "0": "Charlie Rose",
         "1": "13"
        },
        {
         "0": "Bob Johnson",
         "1": "1"
        }
       ],
       "schema": [
        {
         "key": "0",
         "name": "FullName",
         "type": "string"
        },
        {
         "key": "1",
         "name": "Sold_Units_Aggregated",
         "type": "bigint"
        }
       ],
       "truncated": false
      },
      "wranglerEntryContext": {
       "candidateVariableNames": [
        "grouped_orders_by_customer"
       ],
       "dataframeType": "pyspark"
      }
     },
     "type": "Synapse.DataFrame"
    },
    "3b2c29bf-118d-409e-be61-612f12c37276": {
     "persist_state": {
      "view": {
       "chartOptions": {
        "aggregationType": "sum",
        "binsNumber": 10,
        "categoryFieldKeys": [],
        "chartType": "bar",
        "isStacked": false,
        "seriesFieldKeys": [],
        "wordFrequency": "-1"
       },
       "tableOptions": {},
       "type": "details",
       "viewOptionsGroup": [
        {
         "tabItems": [
          {
           "key": "0",
           "name": "Table",
           "options": {},
           "type": "table"
          }
         ]
        }
       ]
      }
     },
     "sync_state": {
      "isSummary": false,
      "language": "scala",
      "table": {
       "rows": [
        {
         "0": "Neon Strip RGB",
         "1": "Charlie Rose",
         "2": "350.0"
        },
        {
         "0": "Neon Tube 60cm",
         "1": "Charlie Rose",
         "2": "75.0"
        },
        {
         "0": "Neon Tube 60cm",
         "1": "Alice Smith",
         "2": "125.0"
        },
        {
         "0": "Neon Sign Custom",
         "1": "Bob Johnson",
         "2": "100.0"
        }
       ],
       "schema": [
        {
         "key": "0",
         "name": "ProductName",
         "type": "string"
        },
        {
         "key": "1",
         "name": "FullName",
         "type": "string"
        },
        {
         "key": "2",
         "name": "Revenue",
         "type": "decimal"
        }
       ],
       "truncated": false
      },
      "wranglerEntryContext": {
       "candidateVariableNames": [
        "preview_created_data"
       ],
       "dataframeType": "pyspark"
      }
     },
     "type": "Synapse.DataFrame"
    },
    "3d2cdb93-037c-4263-934b-33b3a52005d4": {
     "persist_state": {
      "view": {
       "chartOptions": {
        "aggregationType": "sum",
        "binsNumber": 10,
        "categoryFieldKeys": [],
        "chartType": "bar",
        "isStacked": false,
        "seriesFieldKeys": [],
        "wordFrequency": "-1"
       },
       "tableOptions": {},
       "type": "details",
       "viewOptionsGroup": [
        {
         "tabItems": [
          {
           "key": "0",
           "name": "Table",
           "options": {},
           "type": "table"
          }
         ]
        }
       ]
      }
     },
     "sync_state": {
      "isSummary": false,
      "language": "scala",
      "table": {
       "rows": [
        {
         "0": "102",
         "1": "Bob Johnson"
        },
        {
         "0": "103",
         "1": "Charlie Rose"
        },
        {
         "0": "101",
         "1": "Alice Smith"
        }
       ],
       "schema": [
        {
         "key": "0",
         "name": "Id",
         "type": "string"
        },
        {
         "key": "1",
         "name": "FullName",
         "type": "string"
        }
       ],
       "truncated": false
      },
      "wranglerEntryContext": {
       "candidateVariableNames": [
        "customers"
       ],
       "dataframeType": "pyspark"
      }
     },
     "type": "Synapse.DataFrame"
    },
    "93144882-d2fd-45ce-b495-73e18d5367a3": {
     "persist_state": {
      "view": {
       "chartOptions": {
        "aggregationType": "sum",
        "binsNumber": 10,
        "categoryFieldKeys": [],
        "chartType": "bar",
        "isStacked": false,
        "seriesFieldKeys": [],
        "wordFrequency": "-1"
       },
       "tableOptions": {},
       "type": "details",
       "viewOptionsGroup": [
        {
         "tabItems": [
          {
           "key": "0",
           "name": "Table",
           "options": {},
           "type": "table"
          }
         ]
        }
       ]
      }
     },
     "sync_state": {
      "isSummary": false,
      "language": "scala",
      "table": {
       "rows": [
        {
         "0": "Neon Strip RGB",
         "1": "Charlie Rose",
         "2": "350.0"
        },
        {
         "0": "Neon Tube 60cm",
         "1": "Charlie Rose",
         "2": "75.0"
        },
        {
         "0": "Neon Tube 60cm",
         "1": "Alice Smith",
         "2": "125.0"
        },
        {
         "0": "Neon Sign Custom",
         "1": "Bob Johnson",
         "2": "100.0"
        }
       ],
       "schema": [
        {
         "key": "0",
         "name": "ProductName",
         "type": "string"
        },
        {
         "key": "1",
         "name": "FullName",
         "type": "string"
        },
        {
         "key": "2",
         "name": "Revenue",
         "type": "decimal"
        }
       ],
       "truncated": false
      },
      "wranglerEntryContext": {
       "candidateVariableNames": [
        "grouped_orders_by_customer_and_product"
       ],
       "dataframeType": "pyspark"
      }
     },
     "type": "Synapse.DataFrame"
    },
    "ac028e3e-2044-485b-8bb4-98fb70116f44": {
     "persist_state": {
      "view": {
       "chartOptions": {
        "aggregationType": "sum",
        "binsNumber": 10,
        "categoryFieldKeys": [],
        "chartType": "bar",
        "isStacked": false,
        "seriesFieldKeys": [],
        "wordFrequency": "-1"
       },
       "tableOptions": {},
       "type": "details",
       "viewOptionsGroup": [
        {
         "tabItems": [
          {
           "key": "0",
           "name": "Table",
           "options": {},
           "type": "table"
          }
         ]
        }
       ]
      }
     },
     "sync_state": {
      "isSummary": false,
      "language": "scala",
      "table": {
       "rows": [
        {
         "0": "1002",
         "1": "2025-06-01 22:00:00",
         "2": "1",
         "3": "2",
         "4": "102"
        },
        {
         "0": "1003",
         "1": "2025-06-02 22:00:00",
         "2": "10",
         "3": "3",
         "4": "103"
        },
        {
         "0": "1001",
         "1": "2025-05-31 22:00:00",
         "2": "5",
         "3": "1",
         "4": "101"
        },
        {
         "0": "1004",
         "1": "2025-06-03 22:00:00",
         "2": "3",
         "3": "1",
         "4": "103"
        }
       ],
       "schema": [
        {
         "key": "0",
         "name": "Id",
         "type": "string"
        },
        {
         "key": "1",
         "name": "SaleDate",
         "type": "timestamp"
        },
        {
         "key": "2",
         "name": "SoldUnits",
         "type": "bigint"
        },
        {
         "key": "3",
         "name": "ProductID",
         "type": "bigint"
        },
        {
         "key": "4",
         "name": "CustomerID",
         "type": "bigint"
        }
       ],
       "truncated": false
      },
      "wranglerEntryContext": {
       "candidateVariableNames": [
        "sales"
       ],
       "dataframeType": "pyspark"
      }
     },
     "type": "Synapse.DataFrame"
    },
    "b55af793-48ae-4583-aed7-189fc4583fde": {
     "persist_state": {
      "view": {
       "chartOptions": {
        "aggregationType": "sum",
        "binsNumber": 10,
        "categoryFieldKeys": [],
        "chartType": "bar",
        "isStacked": false,
        "seriesFieldKeys": [],
        "wordFrequency": "-1"
       },
       "tableOptions": {},
       "type": "details",
       "viewOptionsGroup": [
        {
         "tabItems": [
          {
           "key": "0",
           "name": "Table",
           "options": {},
           "type": "table"
          }
         ]
        }
       ]
      }
     },
     "sync_state": {
      "isSummary": false,
      "language": "scala",
      "table": {
       "rows": [
        {
         "0": "181c5c54-5e98-496c-8042-4754da58d3ad",
         "1": "2025-06-13 08:52:43.724749",
         "2": "2025-06-13 08:52:43.724749",
         "3": "0",
         "4": "1",
         "5": "1",
         "6": "da87108f-d247-f011-8779-7ced8d47d55a",
         "7": "systemuser",
         "8": "29ce4883-f947-f011-8779-7ced8d47d55a",
         "9": "systemuser",
         "10": "da87108f-d247-f011-8779-7ced8d47d55a",
         "11": "systemuser",
         "12": "29ce4883-f947-f011-8779-7ced8d47d55a",
         "13": "systemuser",
         "14": "e880108f-d247-f011-8779-7ced8d47d55a",
         "15": "businessunit",
         "18": "da87108f-d247-f011-8779-7ced8d47d55a",
         "19": "systemuser",
         "20": "da87108f-d247-f011-8779-7ced8d47d55a",
         "21": "systemuser",
         "22": "102",
         "23": "181c5c54-5e98-496c-8042-4754da58d3ad",
         "24": "Bob Johnson",
         "25": "Štěpán Rešl",
         "26": "Štěpán Rešl",
         "27": "2025-06-13 07:58:52",
         "28": "# InsightsAppsPlatform",
         "29": "# InsightsAppsPlatform",
         "31": "Štěpán Rešl",
         "32": "Štěpán Rešl",
         "33": "2025-06-13 07:58:52",
         "34": "# InsightsAppsPlatform",
         "35": "# InsightsAppsPlatform",
         "37": "Štěpán Rešl",
         "39": "Štěpán Rešl",
         "40": "org9b35785c",
         "43": "1725254",
         "45": "2025"
        },
        {
         "0": "8d4409ad-0fb4-49ec-a176-8086e5146a4e",
         "1": "2025-06-13 08:52:43.724749",
         "2": "2025-06-13 08:52:43.724749",
         "3": "0",
         "4": "1",
         "5": "2",
         "6": "da87108f-d247-f011-8779-7ced8d47d55a",
         "7": "systemuser",
         "8": "29ce4883-f947-f011-8779-7ced8d47d55a",
         "9": "systemuser",
         "10": "da87108f-d247-f011-8779-7ced8d47d55a",
         "11": "systemuser",
         "12": "29ce4883-f947-f011-8779-7ced8d47d55a",
         "13": "systemuser",
         "14": "e880108f-d247-f011-8779-7ced8d47d55a",
         "15": "businessunit",
         "18": "da87108f-d247-f011-8779-7ced8d47d55a",
         "19": "systemuser",
         "20": "da87108f-d247-f011-8779-7ced8d47d55a",
         "21": "systemuser",
         "22": "103",
         "23": "8d4409ad-0fb4-49ec-a176-8086e5146a4e",
         "24": "Charlie Rose",
         "25": "Štěpán Rešl",
         "26": "Štěpán Rešl",
         "27": "2025-06-13 07:58:52",
         "28": "# InsightsAppsPlatform",
         "29": "# InsightsAppsPlatform",
         "31": "Štěpán Rešl",
         "32": "Štěpán Rešl",
         "33": "2025-06-13 07:58:52",
         "34": "# InsightsAppsPlatform",
         "35": "# InsightsAppsPlatform",
         "37": "Štěpán Rešl",
         "39": "Štěpán Rešl",
         "40": "org9b35785c",
         "43": "1725255",
         "45": "2025"
        },
        {
         "0": "f3aab5c6-c3a2-4772-b594-773c7d8aaf3f",
         "1": "2025-06-13 08:52:43.724749",
         "2": "2025-06-13 08:52:43.724749",
         "3": "0",
         "4": "1",
         "5": "0",
         "6": "da87108f-d247-f011-8779-7ced8d47d55a",
         "7": "systemuser",
         "8": "29ce4883-f947-f011-8779-7ced8d47d55a",
         "9": "systemuser",
         "10": "da87108f-d247-f011-8779-7ced8d47d55a",
         "11": "systemuser",
         "12": "29ce4883-f947-f011-8779-7ced8d47d55a",
         "13": "systemuser",
         "14": "e880108f-d247-f011-8779-7ced8d47d55a",
         "15": "businessunit",
         "18": "da87108f-d247-f011-8779-7ced8d47d55a",
         "19": "systemuser",
         "20": "da87108f-d247-f011-8779-7ced8d47d55a",
         "21": "systemuser",
         "22": "101",
         "23": "f3aab5c6-c3a2-4772-b594-773c7d8aaf3f",
         "24": "Alice Smith",
         "25": "Štěpán Rešl",
         "26": "Štěpán Rešl",
         "27": "2025-06-13 07:58:52",
         "28": "# InsightsAppsPlatform",
         "29": "# InsightsAppsPlatform",
         "31": "Štěpán Rešl",
         "32": "Štěpán Rešl",
         "33": "2025-06-13 07:58:52",
         "34": "# InsightsAppsPlatform",
         "35": "# InsightsAppsPlatform",
         "37": "Štěpán Rešl",
         "39": "Štěpán Rešl",
         "40": "org9b35785c",
         "43": "1725253",
         "45": "2025"
        }
       ],
       "schema": [
        {
         "key": "0",
         "name": "Id",
         "type": "string"
        },
        {
         "key": "1",
         "name": "SinkCreatedOn",
         "type": "timestamp"
        },
        {
         "key": "2",
         "name": "SinkModifiedOn",
         "type": "timestamp"
        },
        {
         "key": "3",
         "name": "statecode",
         "type": "bigint"
        },
        {
         "key": "4",
         "name": "statuscode",
         "type": "bigint"
        },
        {
         "key": "5",
         "name": "cr8dc_geographicalregion",
         "type": "bigint"
        },
        {
         "key": "6",
         "name": "createdby",
         "type": "string"
        },
        {
         "key": "7",
         "name": "createdby_entitytype",
         "type": "string"
        },
        {
         "key": "8",
         "name": "createdonbehalfby",
         "type": "string"
        },
        {
         "key": "9",
         "name": "createdonbehalfby_entitytype",
         "type": "string"
        },
        {
         "key": "10",
         "name": "modifiedby",
         "type": "string"
        },
        {
         "key": "11",
         "name": "modifiedby_entitytype",
         "type": "string"
        },
        {
         "key": "12",
         "name": "modifiedonbehalfby",
         "type": "string"
        },
        {
         "key": "13",
         "name": "modifiedonbehalfby_entitytype",
         "type": "string"
        },
        {
         "key": "14",
         "name": "owningbusinessunit",
         "type": "string"
        },
        {
         "key": "15",
         "name": "owningbusinessunit_entitytype",
         "type": "string"
        },
        {
         "key": "16",
         "name": "owningteam",
         "type": "string"
        },
        {
         "key": "17",
         "name": "owningteam_entitytype",
         "type": "string"
        },
        {
         "key": "18",
         "name": "owninguser",
         "type": "string"
        },
        {
         "key": "19",
         "name": "owninguser_entitytype",
         "type": "string"
        },
        {
         "key": "20",
         "name": "ownerid",
         "type": "string"
        },
        {
         "key": "21",
         "name": "ownerid_entitytype",
         "type": "string"
        },
        {
         "key": "22",
         "name": "cr8dc_customeridentifier",
         "type": "string"
        },
        {
         "key": "23",
         "name": "cr8dc_customerrecordid",
         "type": "string"
        },
        {
         "key": "24",
         "name": "cr8dc_fullname",
         "type": "string"
        },
        {
         "key": "25",
         "name": "createdbyname",
         "type": "string"
        },
        {
         "key": "26",
         "name": "createdbyyominame",
         "type": "string"
        },
        {
         "key": "27",
         "name": "createdon",
         "type": "timestamp"
        },
        {
         "key": "28",
         "name": "createdonbehalfbyname",
         "type": "string"
        },
        {
         "key": "29",
         "name": "createdonbehalfbyyominame",
         "type": "string"
        },
        {
         "key": "30",
         "name": "importsequencenumber",
         "type": "bigint"
        },
        {
         "key": "31",
         "name": "modifiedbyname",
         "type": "string"
        },
        {
         "key": "32",
         "name": "modifiedbyyominame",
         "type": "string"
        },
        {
         "key": "33",
         "name": "modifiedon",
         "type": "timestamp"
        },
        {
         "key": "34",
         "name": "modifiedonbehalfbyname",
         "type": "string"
        },
        {
         "key": "35",
         "name": "modifiedonbehalfbyyominame",
         "type": "string"
        },
        {
         "key": "36",
         "name": "overriddencreatedon",
         "type": "timestamp"
        },
        {
         "key": "37",
         "name": "owneridname",
         "type": "string"
        },
        {
         "key": "38",
         "name": "owneridtype",
         "type": "string"
        },
        {
         "key": "39",
         "name": "owneridyominame",
         "type": "string"
        },
        {
         "key": "40",
         "name": "owningbusinessunitname",
         "type": "string"
        },
        {
         "key": "41",
         "name": "timezoneruleversionnumber",
         "type": "bigint"
        },
        {
         "key": "42",
         "name": "utcconversiontimezonecode",
         "type": "bigint"
        },
        {
         "key": "43",
         "name": "versionnumber",
         "type": "bigint"
        },
        {
         "key": "44",
         "name": "IsDelete",
         "type": "boolean"
        },
        {
         "key": "45",
         "name": "PartitionId",
         "type": "string"
        }
       ],
       "truncated": false
      },
      "wranglerEntryContext": {
       "candidateVariableNames": [
        "df"
       ],
       "dataframeType": "pyspark"
      }
     },
     "type": "Synapse.DataFrame"
    },
    "f48c918b-19f2-492d-8910-7d0c9851fb6a": {
     "persist_state": {
      "view": {
       "chartOptions": {
        "aggregationType": "sum",
        "binsNumber": 10,
        "categoryFieldKeys": [],
        "chartType": "bar",
        "isStacked": false,
        "seriesFieldKeys": [],
        "wordFrequency": "-1"
       },
       "tableOptions": {},
       "type": "details",
       "viewOptionsGroup": [
        {
         "tabItems": [
          {
           "key": "0",
           "name": "Table",
           "options": {},
           "type": "table"
          }
         ]
        }
       ]
      }
     },
     "sync_state": {
      "isSummary": false,
      "language": "scala",
      "table": {
       "rows": [
        {
         "0": "Neon Strip RGB",
         "1": "3",
         "2": "35.0",
         "3": "35.0",
         "4": "Strip"
        },
        {
         "0": "Neon Tube 60cm",
         "1": "1",
         "2": "25.0",
         "3": "25.0",
         "4": "Tube"
        },
        {
         "0": "Neon Sign Custom",
         "1": "2",
         "2": "100.0",
         "3": "100.0",
         "4": "Custom"
        }
       ],
       "schema": [
        {
         "key": "0",
         "name": "ProductName",
         "type": "string"
        },
        {
         "key": "1",
         "name": "Id",
         "type": "string"
        },
        {
         "key": "2",
         "name": "UnitPrice",
         "type": "decimal"
        },
        {
         "key": "3",
         "name": "UnitPriceBase",
         "type": "decimal"
        },
        {
         "key": "4",
         "name": "ProductCategory",
         "type": "string"
        }
       ],
       "truncated": false
      },
      "wranglerEntryContext": {
       "candidateVariableNames": [
        "products"
       ],
       "dataframeType": "pyspark"
      }
     },
     "type": "Synapse.DataFrame"
    }
   },
   "version": "0.1"
  }
 },
 "nbformat": 4,
 "nbformat_minor": 5
}
